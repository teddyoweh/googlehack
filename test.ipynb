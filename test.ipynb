{
 "cells": [
  {
   "cell_type": "code",
   "execution_count": 3,
   "metadata": {},
   "outputs": [],
   "source": [
    "from elevenlabs.client import ElevenLabs\n",
    "\n",
    "api_key = '81e120e94a89aaf1f99412c30ad1a4a1'"
   ]
  },
  {
   "cell_type": "code",
   "execution_count": 4,
   "metadata": {},
   "outputs": [
    {
     "ename": "TypeError",
     "evalue": "__init__() takes 1 positional argument but 2 were given",
     "output_type": "error",
     "traceback": [
      "\u001b[0;31m---------------------------------------------------------------------------\u001b[0m",
      "\u001b[0;31mTypeError\u001b[0m                                 Traceback (most recent call last)",
      "Cell \u001b[0;32mIn[4], line 3\u001b[0m\n\u001b[1;32m      1\u001b[0m \u001b[38;5;28;01mfrom\u001b[39;00m \u001b[38;5;21;01melevenlabs\u001b[39;00m\u001b[38;5;21;01m.\u001b[39;00m\u001b[38;5;21;01mclient\u001b[39;00m \u001b[38;5;28;01mimport\u001b[39;00m ElevenLabs\n\u001b[0;32m----> 3\u001b[0m client \u001b[38;5;241m=\u001b[39m \u001b[43mElevenLabs\u001b[49m\u001b[43m(\u001b[49m\u001b[43mapi_key\u001b[49m\u001b[43m)\u001b[49m\n",
      "\u001b[0;31mTypeError\u001b[0m: __init__() takes 1 positional argument but 2 were given"
     ]
    }
   ],
   "source": [
    "from elevenlabs.client import ElevenLabs\n",
    "\n",
    "client = ElevenLabs(api_key)"
   ]
  },
  {
   "cell_type": "code",
   "execution_count": 9,
   "metadata": {},
   "outputs": [],
   "source": [
    "from elevenlabs import generate, play\n",
    "\n",
    "audio = generate(\n",
    "  text=\"guy howfar na, you don chop? omo that babe no dey gree oh\",\n",
    "  voice=\"Chris\",\n",
    "  model=\"eleven_multilingual_v2\"\n",
    ")\n",
    "\n",
    "play(audio)"
   ]
  },
  {
   "cell_type": "code",
   "execution_count": 28,
   "metadata": {},
   "outputs": [],
   "source": [
    "import librosa\n",
    "import numpy as np\n",
    "import matplotlib.pyplot as plt\n",
    "\n",
    "def calculate_amplitude(audio_file):\n",
    "    y, sr = librosa.load(audio_file)\n",
    "    duration = librosa.get_duration(y=y, sr=sr)\n",
    "    frames_per_second = len(y) / duration\n",
    "    amplitude_map = {}\n",
    "    for i in range(int(duration)):\n",
    "        start_frame = int(i * frames_per_second)\n",
    "        end_frame = int((i + 1) * frames_per_second)\n",
    "        amplitude_values = np.abs(y[start_frame:end_frame][:100])  # Limit to 100 samples\n",
    "        amplitude_map[f\"{i+1}\"] = amplitude_values.tolist()\n",
    "\n",
    "    return amplitude_map\n",
    "\n",
    "\n",
    " \n",
    "audio_file = \"ye.mp3\"    \n",
    "amplitude_map = calculate_amplitude(audio_file)\n",
    "\n",
    "\n"
   ]
  },
  {
   "cell_type": "code",
   "execution_count": 29,
   "metadata": {},
   "outputs": [],
   "source": [
    "import json\n",
    "with open(\"ye.json\", 'w') as f:\n",
    "        json.dump(amplitude_map, f, indent=4)"
   ]
  },
  {
   "cell_type": "code",
   "execution_count": null,
   "metadata": {},
   "outputs": [],
   "source": []
  }
 ],
 "metadata": {
  "kernelspec": {
   "display_name": "Python 3",
   "language": "python",
   "name": "python3"
  },
  "language_info": {
   "codemirror_mode": {
    "name": "ipython",
    "version": 3
   },
   "file_extension": ".py",
   "mimetype": "text/x-python",
   "name": "python",
   "nbconvert_exporter": "python",
   "pygments_lexer": "ipython3",
   "version": "3.9.6"
  }
 },
 "nbformat": 4,
 "nbformat_minor": 2
}
